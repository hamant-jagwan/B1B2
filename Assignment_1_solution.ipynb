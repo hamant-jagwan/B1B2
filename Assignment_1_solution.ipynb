{
  "nbformat": 4,
  "nbformat_minor": 0,
  "metadata": {
    "colab": {
      "provenance": [],
      "authorship_tag": "ABX9TyNydto0r0BebJ1j0KdRpPQW",
      "include_colab_link": true
    },
    "kernelspec": {
      "name": "python3",
      "display_name": "Python 3"
    },
    "language_info": {
      "name": "python"
    }
  },
  "cells": [
    {
      "cell_type": "markdown",
      "metadata": {
        "id": "view-in-github",
        "colab_type": "text"
      },
      "source": [
        "<a href=\"https://colab.research.google.com/github/hamant-jagwan/B1B2/blob/main/Assignment_1_solution.ipynb\" target=\"_parent\"><img src=\"https://colab.research.google.com/assets/colab-badge.svg\" alt=\"Open In Colab\"/></a>"
      ]
    },
    {
      "cell_type": "markdown",
      "source": [
        "## **Submitted by** : **Hamant Jagwan**\n",
        "\n",
        "## **Sap id** : **590010133**"
      ],
      "metadata": {
        "id": "Thr30J30hrLg"
      }
    },
    {
      "cell_type": "markdown",
      "source": [
        "# **Part 1 : Introduction to Python**"
      ],
      "metadata": {
        "id": "D3Kyo_R9jUyC"
      }
    },
    {
      "cell_type": "markdown",
      "source": [
        "## **Python Installation and Execution**\n",
        "write a python scripts that print your name, course name, and the python version you are using also execute the script from the command line and include a screenshot of the *output*"
      ],
      "metadata": {
        "id": "tWdwLVjhieRG"
      }
    },
    {
      "cell_type": "code",
      "source": [
        "import platform\n",
        "# putting the value\n",
        "name = \"Hamant Jagwan\"\n",
        "course = \"MCA with specialization in Data Science\"\n",
        "\n",
        "print(\"Name:\", name)\n",
        "print(\"Course:\", course)\n",
        "print(\"Python Version:\", platform.python_version())"
      ],
      "metadata": {
        "colab": {
          "base_uri": "https://localhost:8080/"
        },
        "id": "n1xxeKi5ieBo",
        "outputId": "ae6a6cfa-1b4a-42d9-b722-a797c1e9488d"
      },
      "execution_count": null,
      "outputs": [
        {
          "output_type": "stream",
          "name": "stdout",
          "text": [
            "Name: Hamant Jagwan\n",
            "Course: MCA with specialization in Data Science\n",
            "Python Version: 3.10.12\n"
          ]
        }
      ]
    },
    {
      "cell_type": "markdown",
      "source": [
        "![Screenshot 2024-09-03 084041.png](data:image/png;base64,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)"
      ],
      "metadata": {
        "id": "1uvd0DQ83XQk"
      }
    },
    {
      "cell_type": "markdown",
      "source": [
        "## **Using IDLE**\n",
        "\n",
        "* Open IDLE and write a Python script that prints \"Hello, Python World!\".\n",
        "* Save the script as `hello.py` and execute it using IDLE."
      ],
      "metadata": {
        "id": "lB5HKbfN1k7D"
      }
    },
    {
      "cell_type": "markdown",
      "source": [
        "![Screenshot 2024-09-03 083057.png](data:image/png;base64,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)"
      ],
      "metadata": {
        "id": "8aKopmAf2dSB"
      }
    },
    {
      "cell_type": "markdown",
      "source": [
        "# **Part 2 : Basic Python Syntax**"
      ],
      "metadata": {
        "id": "h2h51b1Ujr1T"
      }
    },
    {
      "cell_type": "markdown",
      "source": [
        "## **1 . String Operations**"
      ],
      "metadata": {
        "id": "tYOf9UoOjyvX"
      }
    },
    {
      "cell_type": "markdown",
      "source": [
        "* Write a python program that takes user first name and last name as input and print them in reverse order with a space between them"
      ],
      "metadata": {
        "id": "1TSeAhqVj7DD"
      }
    },
    {
      "cell_type": "code",
      "source": [
        "# first we need to ask the input from the user\n",
        "first_name  = input(\"Enter your first name \")\n",
        "last_name = input(\"Enter your last name \")\n",
        "\n",
        "# Printing the names in reverse order with a space in between\n",
        "print(last_name + \" \" + first_name)"
      ],
      "metadata": {
        "colab": {
          "base_uri": "https://localhost:8080/"
        },
        "id": "zy8Gy98qjx_6",
        "outputId": "44cb4322-9dc7-4ef9-844b-79de8ed69105"
      },
      "execution_count": null,
      "outputs": [
        {
          "output_type": "stream",
          "name": "stdout",
          "text": [
            "Enter your first name Hamant\n",
            "Enter your last name Jagwan\n",
            "Jagwan Hamant\n"
          ]
        }
      ]
    },
    {
      "cell_type": "markdown",
      "source": [
        "* Use at least two string methods and explain their purpose in the comments in python"
      ],
      "metadata": {
        "id": "j58-0Yh2lJX8"
      }
    },
    {
      "cell_type": "code",
      "execution_count": null,
      "metadata": {
        "colab": {
          "base_uri": "https://localhost:8080/"
        },
        "id": "hycCQaxBhiOr",
        "outputId": "15b6c5b8-d3c0-4a31-cfc5-da5d6f0eb042"
      },
      "outputs": [
        {
          "output_type": "stream",
          "name": "stdout",
          "text": [
            "JAGWAN HAMANT\n"
          ]
        }
      ],
      "source": [
        "# I,will take the above code of first_name and last_name , in that i will use two methods of string\n",
        "\n",
        "# 1  .string_variableName.upper()-> this method  convert the entire string to uppercase\n",
        "\n",
        "first_name = first_name.upper()\n",
        "last_name = last_name.upper()\n",
        "\n",
        "# 2 Second i will use REPLACE method, removing spaces within name)\n",
        "first_name = first_name.replace(\" \", \"\")\n",
        "last_name = last_name.replace(\" \", \"\")\n",
        "\n",
        "# Printing the names in reverse order with a space in between\n",
        "print(last_name + \" \" + first_name)"
      ]
    },
    {
      "cell_type": "markdown",
      "source": [
        "## **Numeric data type and Conversion functions**\n",
        "* Write a python program that takes an input numbers from the users, convert it to different numeric data types(integers,float,and complex),and displays the converted values\n",
        "* explain the difference between these data types in comments"
      ],
      "metadata": {
        "id": "6boxNTy1luIv"
      }
    },
    {
      "cell_type": "code",
      "source": [
        "# I am taking the input from the user , which is in string format\n",
        "# so that i can convert easily to different data type\n",
        "\n",
        "user_input = input(\"Enter a number \")\n",
        "\n",
        "# converting the user_input to different data type\n",
        "integer_value = int(user_input)\n",
        "float_value = float(user_input)\n",
        "complex_value = complex(user_input)\n",
        "\n",
        "# printing\n",
        "print(\"Integer Value\", integer_value)\n",
        "print(\"Float Value\", float_value)\n",
        "print(\"Complex Value\", complex_value)"
      ],
      "metadata": {
        "colab": {
          "base_uri": "https://localhost:8080/"
        },
        "id": "quPAByiGldeX",
        "outputId": "0314bb09-a550-4ff4-bc5b-ff40715a53d4"
      },
      "execution_count": null,
      "outputs": [
        {
          "output_type": "stream",
          "name": "stdout",
          "text": [
            "Enter a number 55\n",
            "Integer Value 55\n",
            "Float Value 55.0\n",
            "Complex Value (55+0j)\n"
          ]
        }
      ]
    },
    {
      "cell_type": "markdown",
      "source": [
        "### ***Explanation of data types:***\n",
        "\n",
        "**Integer**: Represents whole numbers without a fractional component, e.g., 5, -3, 42. In this program, the input is converted to an integer by discarding any fractional part.\n",
        "\n",
        "**Float**: Represents numbers with a decimal point (fractional component), e.g., 3.14, -0.001, 2.0.The input is directly converted to a float to retain any decimal part.\n",
        "\n",
        "**Complex:** Represents numbers in the form of a + bj, where 'a' is the real part and 'b' is the imaginary part.The input is converted to a complex number, where the imaginary part is set to 0 if not provided. For example, entering \"3\" will result in a complex number 3+0j."
      ],
      "metadata": {
        "id": "pjXEeCjCnLeh"
      }
    },
    {
      "cell_type": "markdown",
      "source": [
        "## **Simple Input and Output** :\n",
        "Create a Python script that calculates the area of a rectangle. The script should : prompt the user to enter the length and width of the rectangle.\n",
        "calculate the area. Display the result using the `print` function."
      ],
      "metadata": {
        "id": "rT1zL9EunjRT"
      }
    },
    {
      "cell_type": "code",
      "source": [
        "\"length = int(input(\"Enter the length of rectangle : \"))\n",
        "width = int(input(\"Enter the width of rectangle : \"))\n",
        "area = length * width\n",
        "print(area)"
      ],
      "metadata": {
        "colab": {
          "base_uri": "https://localhost:8080/"
        },
        "id": "t15LOfsQlpdg",
        "outputId": "8652ad4e-0d46-4098-e218-7f67d78cbdd7"
      },
      "execution_count": null,
      "outputs": [
        {
          "output_type": "stream",
          "name": "stdout",
          "text": [
            "Enter the length of rectangle : 44\n",
            "Enter the width of rectangle : 76\n",
            "3344\n"
          ]
        }
      ]
    },
    {
      "cell_type": "markdown",
      "source": [
        "## **Using the `format` Method .**\n",
        "\n",
        "Modify the rectangle area program to format the output so that it displays the area with two decimal places."
      ],
      "metadata": {
        "id": "4m0vLfZdo6GE"
      }
    },
    {
      "cell_type": "code",
      "source": [
        "# we will using format string method in python for the above code\n",
        "# taking user input of length and width\n",
        "\n",
        "length=int(input(\"Enter the length of rectangle : \"))\n",
        "width=int(input(\"Enter the width of rectangle : \"))\n",
        "\n",
        "area= length*width\n",
        "\n",
        "print(f\"The area of rectangle is {area:.2f}\")"
      ],
      "metadata": {
        "colab": {
          "base_uri": "https://localhost:8080/"
        },
        "id": "4mSRyiQEo0FD",
        "outputId": "592b47df-0966-40cf-e579-062f762563cb"
      },
      "execution_count": null,
      "outputs": [
        {
          "output_type": "stream",
          "name": "stdout",
          "text": [
            "Enter the length of rectangle : 44\n",
            "Enter the width of rectangle : 74\n",
            "The area of rectangle is 3256.00\n"
          ]
        }
      ]
    },
    {
      "cell_type": "markdown",
      "source": [
        "## **The `%` Method and `print` function**\n",
        "\n",
        "* Write a Python script that takes three numbers as input and prints their average using the `%` method for string formatting.\n",
        "* Also, use the `print` function to display a message that states, \"The average of the three is : [calculated average]\"."
      ],
      "metadata": {
        "id": "scX9r-2hp-Ck"
      }
    },
    {
      "cell_type": "code",
      "source": [
        "# Taking user input for three numbers\n",
        "\n",
        "num1 = int(input(\"Enter the first number : \"))\n",
        "num2 = int(input(\"Enter the second number : \"))\n",
        "num3 = int(input(\"Enter the third number : ]\"))\n",
        "\n",
        "# Calculate the average\n",
        "calculate_average = (num1 + num2 + num3) / 3\n",
        "\n",
        "# Print the average using % formatting\n",
        "print(f\"The average of the three numbers is: %.2f\" % calculate_average)"
      ],
      "metadata": {
        "colab": {
          "base_uri": "https://localhost:8080/"
        },
        "id": "V_VeF3a8peBz",
        "outputId": "245f11ab-a1b3-4840-cbe1-37e5db871fbc"
      },
      "execution_count": null,
      "outputs": [
        {
          "output_type": "stream",
          "name": "stdout",
          "text": [
            "Enter the first number : 45\n",
            "Enter the second number : 45\n",
            "Enter the third number : 45\n",
            "The average of the three numbers is: 45.00\n"
          ]
        }
      ]
    },
    {
      "cell_type": "markdown",
      "source": [
        "# **Part 3 : Language Components**"
      ],
      "metadata": {
        "id": "SOXd9vXvtL9B"
      }
    },
    {
      "cell_type": "markdown",
      "source": [
        "## **Control Flow (if Statements and Loops)**"
      ],
      "metadata": {
        "id": "c1CWKYOcsBWy"
      }
    },
    {
      "cell_type": "markdown",
      "source": [
        "**question1:** Write a python program that ask the user for a number and determine whether it is postive,negative or zero"
      ],
      "metadata": {
        "id": "6A4X6CpN2IO_"
      }
    },
    {
      "cell_type": "code",
      "source": [
        "# user input\n",
        "number = float(input(\"Enter a number: \"))\n",
        "\n",
        "# checking if the number is positive, negative, or zero\n",
        "if number > 0:\n",
        "    print(\"The number is positive\")\n",
        "elif number < 0:\n",
        "    print(\"The number is negative\")\n",
        "else:\n",
        "    print(\"The number is zero\")"
      ],
      "metadata": {
        "colab": {
          "base_uri": "https://localhost:8080/"
        },
        "id": "URztUo0x2H1e",
        "outputId": "051ac2bc-a09a-4416-9c9c-89bd59f7f67b"
      },
      "execution_count": null,
      "outputs": [
        {
          "output_type": "stream",
          "name": "stdout",
          "text": [
            "Enter a number: 0\n",
            "The number is zero\n"
          ]
        }
      ]
    },
    {
      "cell_type": "markdown",
      "source": [
        "* Implement a loop that continues to ask the user for a number until they enter exit.\n",
        "Use `break` to exit the loop and `continue` to prompt for a new number if the input is not \"exit\"."
      ],
      "metadata": {
        "id": "xBfsdnL02uYv"
      }
    },
    {
      "cell_type": "code",
      "source": [
        "# Loop to asking again and again from the user\n",
        "while True:\n",
        "    user_input = input(\"Enter a number (or type 'exit' to quit) \")\n",
        "\n",
        "    # Check if the user wants to exit\n",
        "    if user_input.lower() == 'exit':\n",
        "        print(\"Exiting the program.\")\n",
        "        break\n",
        "\n",
        "    # Try to convert the input to a float\n",
        "    # we will use exception handling , bcoz user can also different input\n",
        "    try:\n",
        "        number = float(user_input)\n",
        "\n",
        "        # checking\n",
        "        if number > 0:\n",
        "            print(\"The number is positive.\")\n",
        "        elif number < 0:\n",
        "            print(\"The number is negative.\")\n",
        "        else:\n",
        "            print(\"The number is zero.\")\n",
        "    except ValueError:\n",
        "        print(\"Please enter a valid number or 'exit' to quit.\")"
      ],
      "metadata": {
        "colab": {
          "base_uri": "https://localhost:8080/"
        },
        "id": "FxvOtP1vuQWf",
        "outputId": "aab33876-8933-49b1-f2e0-391e5ea9a328"
      },
      "execution_count": null,
      "outputs": [
        {
          "output_type": "stream",
          "name": "stdout",
          "text": [
            "Enter a number (or type 'exit' to quit) 354\n",
            "The number is positive.\n",
            "Enter a number (or type 'exit' to quit) -234\n",
            "The number is negative.\n",
            "Enter a number (or type 'exit' to quit) ftgy54\n",
            "Please enter a valid number or 'exit' to quit.\n",
            "Enter a number (or type 'exit' to quit) eXit\n",
            "Exiting the program.\n"
          ]
        }
      ]
    },
    {
      "cell_type": "markdown",
      "source": [
        "## **Relational and Logical Operators**\n",
        "\n",
        "Create a python script that takes two numbers as input and prints whether both number are even, odd or one of each using relational and logical operators."
      ],
      "metadata": {
        "id": "kxZr17vD-Ml-"
      }
    },
    {
      "cell_type": "code",
      "source": [
        "# user input\n",
        "num1 = int(input(\"Enter the first number : \"))\n",
        "num2 = int(input(\"Enter the second number : \"))\n",
        "\n",
        "# Checking  if both numbers are even or odd\n",
        "if num1 % 2 == 0 and num2 % 2 == 0:\n",
        "    print(\"Both numbers are even\")\n",
        "elif num1 % 2 != 0 and num2 % 2 != 0:\n",
        "    print(\"Both numbers are odd\")\n",
        "else:\n",
        "    print(\"One number is even and the other is odd\")"
      ],
      "metadata": {
        "colab": {
          "base_uri": "https://localhost:8080/"
        },
        "id": "Xy9_iGoBDY9Q",
        "outputId": "fe9187b9-47b1-4cd9-8506-809a654aee2b"
      },
      "execution_count": null,
      "outputs": [
        {
          "output_type": "stream",
          "name": "stdout",
          "text": [
            "Enter the first number : 43\n",
            "Enter the second number : 34\n",
            "One number is even and the other is odd\n"
          ]
        }
      ]
    },
    {
      "cell_type": "markdown",
      "source": [
        "## **For Loop and Bitwise Operators**\n",
        "Write a python program that takes an integer input and prints its binary, octal, and hexadecimal equivalents using a for loop and bitwise operators.\n"
      ],
      "metadata": {
        "id": "EZj6eNQLEjs2"
      }
    },
    {
      "cell_type": "code",
      "source": [
        "# user input\n",
        "number = int(input(\"Enter an integer \"))\n",
        "\n",
        "# Initialize variables for binary, octal, and hexadecimal representations\n",
        "binary = \"\"\n",
        "octal = \"\"\n",
        "hexadecimal = \"\"\n",
        "\n",
        "# Calculate binary representation using bitwise operators\n",
        "for i in range(31, -1, -1):  # Assuming 32 bits for the integer\n",
        "    # Check if the ith bit is set\n",
        "    if number & (1 << i):\n",
        "        binary += \"1\"\n",
        "    else:\n",
        "        binary += \"0\"\n",
        "\n",
        "# Remove leading zeros for binary representation\n",
        "binary = binary.lstrip(\"0\") or \"0\"\n",
        "\n",
        "# Calculate octal representation using bitwise operators\n",
        "temp_number = number\n",
        "while temp_number > 0:\n",
        "    octal_digit = temp_number & 7  # Get the last three bits\n",
        "    octal = str(octal_digit) + octal\n",
        "    temp_number >>= 3  # Right shift by 3 to move to the next group of bits\n",
        "\n",
        "# If the input number is 0, ensure the octal representation is \"0\"\n",
        "if not octal:\n",
        "    octal = \"0\"\n",
        "\n",
        "# Calculate hexadecimal representation using bitwise operators\n",
        "temp_number = number\n",
        "while temp_number > 0:\n",
        "    hex_digit = temp_number & 15  # Get the last four bits\n",
        "    # Convert to hexadecimal character\n",
        "    if hex_digit < 10:\n",
        "        hexadecimal = str(hex_digit) + hexadecimal\n",
        "    else:\n",
        "        hexadecimal = chr(ord('A') + hex_digit - 10) + hexadecimal_representation\n",
        "    temp_number >>= 4  # Right shift by 4 to move to the next group of bits\n",
        "\n",
        "# If the input number is 0, ensure the hexadecimal representation is \"0\"\n",
        "if not hexadecimal:\n",
        "    hexadecimal = \"0\"\n",
        "\n",
        "# Print the results\n",
        "print(f\"Binary: {binary}\")\n",
        "print(f\"Octal: {octal}\")\n",
        "print(f\"Hexadecimal: {hexadecimal}\")"
      ],
      "metadata": {
        "colab": {
          "base_uri": "https://localhost:8080/"
        },
        "id": "7YEl2hl0ECd6",
        "outputId": "6d824981-5bea-4156-841e-04d4571f8ce6"
      },
      "execution_count": null,
      "outputs": [
        {
          "output_type": "stream",
          "name": "stdout",
          "text": [
            "Enter an integer 2\n",
            "Binary: 10\n",
            "Octal: 2\n",
            "Hexadecimal: 2\n"
          ]
        }
      ]
    }
  ]
}