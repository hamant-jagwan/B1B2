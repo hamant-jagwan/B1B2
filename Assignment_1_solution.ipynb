{
  "nbformat": 4,
  "nbformat_minor": 0,
  "metadata": {
    "colab": {
      "provenance": [],
      "authorship_tag": "ABX9TyNkKjv+QkCI4lPNKpQTL/Ul",
      "include_colab_link": true
    },
    "kernelspec": {
      "name": "python3",
      "display_name": "Python 3"
    },
    "language_info": {
      "name": "python"
    }
  },
  "cells": [
    {
      "cell_type": "markdown",
      "metadata": {
        "id": "view-in-github",
        "colab_type": "text"
      },
      "source": [
        "<a href=\"https://colab.research.google.com/github/hamant-jagwan/B1B2/blob/main/Assignment_1_solution.ipynb\" target=\"_parent\"><img src=\"https://colab.research.google.com/assets/colab-badge.svg\" alt=\"Open In Colab\"/></a>"
      ]
    },
    {
      "cell_type": "markdown",
      "source": [
        "Submitted by : Hamant Jagwan\n",
        "\n",
        "Sap id : 590010133"
      ],
      "metadata": {
        "id": "Thr30J30hrLg"
      }
    },
    {
      "cell_type": "markdown",
      "source": [
        "# Part 1"
      ],
      "metadata": {
        "id": "D3Kyo_R9jUyC"
      }
    },
    {
      "cell_type": "markdown",
      "source": [
        "## Question 1\n",
        "write a python scripts that print your name, course name, and the python version you are using also execute the script from the command line and include a screenshot of the *output*"
      ],
      "metadata": {
        "id": "tWdwLVjhieRG"
      }
    },
    {
      "cell_type": "code",
      "source": [
        "import platform\n",
        "# putting the value\n",
        "name = \"Hamant Jagwan\"\n",
        "course = \"MCA with specialization in Data Science\"\n",
        "\n",
        "print(\"Name:\", name)\n",
        "print(\"Course:\", course)\n",
        "print(\"Python Version:\", platform.python_version())"
      ],
      "metadata": {
        "colab": {
          "base_uri": "https://localhost:8080/"
        },
        "id": "n1xxeKi5ieBo",
        "outputId": "ae6a6cfa-1b4a-42d9-b722-a797c1e9488d"
      },
      "execution_count": 1,
      "outputs": [
        {
          "output_type": "stream",
          "name": "stdout",
          "text": [
            "Name: Hamant Jagwan\n",
            "Course: MCA with specialization in Data Science\n",
            "Python Version: 3.10.12\n"
          ]
        }
      ]
    },
    {
      "cell_type": "markdown",
      "source": [],
      "metadata": {
        "id": "DGC8C6kmjiOr"
      }
    },
    {
      "cell_type": "markdown",
      "source": [
        "# **Part 2**"
      ],
      "metadata": {
        "id": "h2h51b1Ujr1T"
      }
    },
    {
      "cell_type": "markdown",
      "source": [
        "## **1 . String Operations**"
      ],
      "metadata": {
        "id": "tYOf9UoOjyvX"
      }
    },
    {
      "cell_type": "markdown",
      "source": [
        "Question : Write a python program that takes user first name and last name as input and print them in reverse order with a space between them"
      ],
      "metadata": {
        "id": "1TSeAhqVj7DD"
      }
    },
    {
      "cell_type": "code",
      "source": [
        "# first we need to ask the input from the user\n",
        "first_name  = input(\"Enter your first name \")\n",
        "last_name = input(\"Enter your last name \")\n",
        "\n",
        "# Printing the names in reverse order with a space in between\n",
        "print(last_name + \" \" + first_name)"
      ],
      "metadata": {
        "colab": {
          "base_uri": "https://localhost:8080/"
        },
        "id": "zy8Gy98qjx_6",
        "outputId": "44cb4322-9dc7-4ef9-844b-79de8ed69105"
      },
      "execution_count": 2,
      "outputs": [
        {
          "output_type": "stream",
          "name": "stdout",
          "text": [
            "Enter your first name Hamant\n",
            "Enter your last name Jagwan\n",
            "Jagwan Hamant\n"
          ]
        }
      ]
    },
    {
      "cell_type": "markdown",
      "source": [
        "Question : Use at least two string methods and explain their purpose in the comments in python"
      ],
      "metadata": {
        "id": "j58-0Yh2lJX8"
      }
    },
    {
      "cell_type": "code",
      "execution_count": 3,
      "metadata": {
        "colab": {
          "base_uri": "https://localhost:8080/"
        },
        "id": "hycCQaxBhiOr",
        "outputId": "15b6c5b8-d3c0-4a31-cfc5-da5d6f0eb042"
      },
      "outputs": [
        {
          "output_type": "stream",
          "name": "stdout",
          "text": [
            "JAGWAN HAMANT\n"
          ]
        }
      ],
      "source": [
        "# I,will take the above code of first_name and last_name , in that i will use two methods of string\n",
        "\n",
        "# 1  .string_variableName.upper()-> this method  convert the entire string to uppercase\n",
        "\n",
        "first_name = first_name.upper()\n",
        "last_name = last_name.upper()\n",
        "\n",
        "# 2 Second i will use REPLACE method, removing spaces within name)\n",
        "first_name = first_name.replace(\" \", \"\")\n",
        "last_name = last_name.replace(\" \", \"\")\n",
        "\n",
        "# Printing the names in reverse order with a space in between\n",
        "print(last_name + \" \" + first_name)"
      ]
    },
    {
      "cell_type": "markdown",
      "source": [
        "## **2 .Numeric data type and Conversion functions**"
      ],
      "metadata": {
        "id": "6boxNTy1luIv"
      }
    },
    {
      "cell_type": "markdown",
      "source": [
        "**Question 1** : Write a python program that takes an input numbers from the users, convert it to different numeric data types(integers,float,and complex),and displays the converted values"
      ],
      "metadata": {
        "id": "SVNfzJhLl3wr"
      }
    },
    {
      "cell_type": "markdown",
      "source": [
        "**Question 2**: Also explain the difference between these data types in comments"
      ],
      "metadata": {
        "id": "Rv9v4tu2mNOc"
      }
    },
    {
      "cell_type": "code",
      "source": [
        "# I am taking the input from the user , which is in string format\n",
        "# so that i can convert easily to different data type\n",
        "\n",
        "user_input = input(\"Enter a number \")\n",
        "\n",
        "# converting the user_input to different data type\n",
        "integer_value = int(user_input)\n",
        "float_value = float(user_input)\n",
        "complex_value = complex(user_input)\n",
        "\n",
        "# printing\n",
        "print(\"Integer Value\", integer_value)\n",
        "print(\"Float Value\", float_value)\n",
        "print(\"Complex Value\", complex_value)"
      ],
      "metadata": {
        "colab": {
          "base_uri": "https://localhost:8080/"
        },
        "id": "quPAByiGldeX",
        "outputId": "0314bb09-a550-4ff4-bc5b-ff40715a53d4"
      },
      "execution_count": 8,
      "outputs": [
        {
          "output_type": "stream",
          "name": "stdout",
          "text": [
            "Enter a number 55\n",
            "Integer Value 55\n",
            "Float Value 55.0\n",
            "Complex Value (55+0j)\n"
          ]
        }
      ]
    },
    {
      "cell_type": "markdown",
      "source": [
        "### ***Explanation of data types:***\n",
        "\n",
        "**Integer**: Represents whole numbers without a fractional component, e.g., 5, -3, 42. In this program, the input is converted to an integer by discarding any fractional part.\n",
        "\n",
        "**Float**: Represents numbers with a decimal point (fractional component), e.g., 3.14, -0.001, 2.0.The input is directly converted to a float to retain any decimal part.\n",
        "\n",
        "**Complex:** Represents numbers in the form of a + bj, where 'a' is the real part and 'b' is the imaginary part.The input is converted to a complex number, where the imaginary part is set to 0 if not provided. For example, entering \"3\" will result in a complex number 3+0j."
      ],
      "metadata": {
        "id": "pjXEeCjCnLeh"
      }
    },
    {
      "cell_type": "markdown",
      "source": [
        "**Question 3** :\n",
        "Create a Python script that calculates the area of a rectangle. The script should : prompt the user to enter the length and width of the rectangle.\n",
        "calculate the area. Display the result using the `print` function."
      ],
      "metadata": {
        "id": "rT1zL9EunjRT"
      }
    },
    {
      "cell_type": "code",
      "source": [
        "length = int(input(\"Enter the length of rectangle : \"))\n",
        "width = int(input(\"Enter the width of rectangle : \"))\n",
        "area = length * width\n",
        "print(area)"
      ],
      "metadata": {
        "colab": {
          "base_uri": "https://localhost:8080/"
        },
        "id": "t15LOfsQlpdg",
        "outputId": "8652ad4e-0d46-4098-e218-7f67d78cbdd7"
      },
      "execution_count": 9,
      "outputs": [
        {
          "output_type": "stream",
          "name": "stdout",
          "text": [
            "Enter the length of rectangle : 44\n",
            "Enter the width of rectangle : 76\n",
            "3344\n"
          ]
        }
      ]
    },
    {
      "cell_type": "markdown",
      "source": [
        "* using the `format` Method .\n",
        "\n",
        "Modify the rectangle area program to format the output so that it displays the area with two decimal places."
      ],
      "metadata": {
        "id": "4m0vLfZdo6GE"
      }
    },
    {
      "cell_type": "code",
      "source": [
        "# we will using format string method in python for the above code\n",
        "# taking user input of length and width\n",
        "\n",
        "length=int(input(\"Enter the length of rectangle : \"))\n",
        "width=int(input(\"Enter the width of rectangle : \"))\n",
        "\n",
        "area= length*width\n",
        "\n",
        "print(f\"The area of rectangle is {area:.2f}\")"
      ],
      "metadata": {
        "colab": {
          "base_uri": "https://localhost:8080/"
        },
        "id": "4mSRyiQEo0FD",
        "outputId": "592b47df-0966-40cf-e579-062f762563cb"
      },
      "execution_count": 10,
      "outputs": [
        {
          "output_type": "stream",
          "name": "stdout",
          "text": [
            "Enter the length of rectangle : 44\n",
            "Enter the width of rectangle : 74\n",
            "The area of rectangle is 3256.00\n"
          ]
        }
      ]
    },
    {
      "cell_type": "markdown",
      "source": [
        "* part II : the `%` Method and `print` function\n",
        "\n",
        "* Write a Python script that takes three numbers as input and prints their average using the `%` method for string formatting.\n",
        "* Also, use the `print` function to display a message that states, \"The average of the three is : [calculated average]\"."
      ],
      "metadata": {
        "id": "scX9r-2hp-Ck"
      }
    },
    {
      "cell_type": "code",
      "source": [
        "# Taking user input for three numbers\n",
        "\n",
        "num1 = int(input(\"Enter the first number : \"))\n",
        "num2 = int(input(\"Enter the second number : \"))\n",
        "num3 = int(input(\"Enter the third number : ]\"))\n",
        "\n",
        "# Calculate the average\n",
        "calculate_average = (num1 + num2 + num3) / 3\n",
        "\n",
        "# Print the average using % formatting\n",
        "print(f\"The average of the three numbers is: %.2f\" % calculate_average)"
      ],
      "metadata": {
        "colab": {
          "base_uri": "https://localhost:8080/"
        },
        "id": "V_VeF3a8peBz",
        "outputId": "245f11ab-a1b3-4840-cbe1-37e5db871fbc"
      },
      "execution_count": 11,
      "outputs": [
        {
          "output_type": "stream",
          "name": "stdout",
          "text": [
            "Enter the first number : 45\n",
            "Enter the second number : 45\n",
            "Enter the third number : 45\n",
            "The average of the three numbers is: 45.00\n"
          ]
        }
      ]
    },
    {
      "cell_type": "markdown",
      "source": [
        "3 Language Components"
      ],
      "metadata": {
        "id": "c1CWKYOcsBWy"
      }
    }
  ]
}