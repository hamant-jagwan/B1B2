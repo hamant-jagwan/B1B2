{
  "cells": [
    {
      "cell_type": "markdown",
      "metadata": {
        "id": "view-in-github",
        "colab_type": "text"
      },
      "source": [
        "<a href=\"https://colab.research.google.com/github/hamant-jagwan/B1B2/blob/main/Assignment_2_solution.ipynb\" target=\"_parent\"><img src=\"https://colab.research.google.com/assets/colab-badge.svg\" alt=\"Open In Colab\"/></a>"
      ]
    },
    {
      "cell_type": "markdown",
      "id": "1e76539f-0202-4743-8adb-818c3feb8961",
      "metadata": {
        "id": "1e76539f-0202-4743-8adb-818c3feb8961"
      },
      "source": [
        "**1. Basic Function Implementation :**"
      ]
    },
    {
      "cell_type": "markdown",
      "id": "226a362e-1fd6-40b9-944f-bb1aeaaf14a2",
      "metadata": {
        "id": "226a362e-1fd6-40b9-944f-bb1aeaaf14a2"
      },
      "source": [
        "**Q. Write a function greet that takes two arguments: name (a string) and greeting (a string with a default value of \"Hello\"). The function should return a greeting message**"
      ]
    },
    {
      "cell_type": "code",
      "execution_count": 1,
      "id": "2b10679d-00f2-4c56-b89d-b9fd92935301",
      "metadata": {
        "colab": {
          "base_uri": "https://localhost:8080/"
        },
        "id": "2b10679d-00f2-4c56-b89d-b9fd92935301",
        "outputId": "64c24b5e-86ff-4837-d141-4a6900f527c1"
      },
      "outputs": [
        {
          "output_type": "stream",
          "name": "stdout",
          "text": [
            "Hello Pankaj Jagwan\n",
            "Namastey UPES \n"
          ]
        }
      ],
      "source": [
        "def greet(name, greeting=\"Hello\"):\n",
        "    return f\"{greeting} {name}\"\n",
        "\n",
        "print(greet(\"Pankaj Jagwan\"))\n",
        "print(greet(\"\", \"Namastey UPES\"))"
      ]
    },
    {
      "cell_type": "markdown",
      "id": "efc06ed7-6ddb-40cf-9f58-c293fc2efd6a",
      "metadata": {
        "id": "efc06ed7-6ddb-40cf-9f58-c293fc2efd6a"
      },
      "source": [
        "\n",
        "**2. Named Arguments :**"
      ]
    },
    {
      "cell_type": "markdown",
      "id": "2e0e704b-fbd9-4e1d-a72e-45c8497ca22e",
      "metadata": {
        "id": "2e0e704b-fbd9-4e1d-a72e-45c8497ca22e"
      },
      "source": [
        "**Q. Create a function create_profile that takes arguments for name, age, and city as named arguments. The function should return a string like \"Name: Alice, Age: 25, City: New York\". Ensure that the age argument has a default value of 18**"
      ]
    },
    {
      "cell_type": "code",
      "execution_count": 2,
      "id": "c4ad9f5c-bbc9-4d91-936a-32ff3ab69a42",
      "metadata": {
        "colab": {
          "base_uri": "https://localhost:8080/"
        },
        "id": "c4ad9f5c-bbc9-4d91-936a-32ff3ab69a42",
        "outputId": "7aecf003-3598-4070-fc44-9d9578e1a147"
      },
      "outputs": [
        {
          "output_type": "stream",
          "name": "stdout",
          "text": [
            "Name: Hamant jagwan, Age: 23, City: Roorkee\n",
            "Name: Pankaj jagwan, Age: 20, City: Roorkee\n"
          ]
        }
      ],
      "source": [
        "# Function definition\n",
        "def create_profile(name, city, age=20):\n",
        "    return f\"Name: {name}, Age: {age}, City: {city}\"\n",
        "\n",
        "#Create profile with custom age\n",
        "profile = create_profile(name=\"Hamant jagwan\", city=\"Roorkee\", age=23)\n",
        "print(profile)\n",
        "\n",
        "#Create profile with default age\n",
        "profile_default_age = create_profile(name=\"Pankaj jagwan\", city=\"Roorkee\")\n",
        "print(profile_default_age)"
      ]
    },
    {
      "cell_type": "markdown",
      "id": "cc494bf8-4727-4a0c-9b24-9ed79cfc97d2",
      "metadata": {
        "id": "cc494bf8-4727-4a0c-9b24-9ed79cfc97d2"
      },
      "source": [
        "**3. Using args and kwargs :**"
      ]
    },
    {
      "cell_type": "markdown",
      "id": "f657789e-0364-4b26-b4cb-768a7b8f5463",
      "metadata": {
        "id": "f657789e-0364-4b26-b4cb-768a7b8f5463"
      },
      "source": [
        "**Q. Write a function sum numbers that takes any number of positional arguments (args) and keyword arguments (kwargs)**"
      ]
    },
    {
      "cell_type": "code",
      "execution_count": 3,
      "id": "de112051-d7a9-4228-8049-eae1fd3052ed",
      "metadata": {
        "colab": {
          "base_uri": "https://localhost:8080/"
        },
        "id": "de112051-d7a9-4228-8049-eae1fd3052ed",
        "outputId": "b8759ca7-933a-44a3-ebf5-efbec788e7d8"
      },
      "outputs": [
        {
          "output_type": "stream",
          "name": "stdout",
          "text": [
            "Sum: 0\n",
            "Keyword: {'a': 40, 'b': 50}\n"
          ]
        }
      ],
      "source": [
        "# Function definition\n",
        "def sum_numbers(*args, **kwargs):\n",
        "\n",
        "    #Sum only the numeric arguments in args\n",
        "    args_sum = sum(args for arg in args if isinstance(args, (int,float)))\n",
        "\n",
        "    #Return the sum of numbers and the kwargs dictionary\n",
        "    return args_sum, kwargs\n",
        "\n",
        "result_sum, result_kwargs = sum_numbers(30,40,50, a=40, b=50)\n",
        "print(\"Sum:\", result_sum)\n",
        "print(\"Keyword:\", result_kwargs)"
      ]
    },
    {
      "cell_type": "markdown",
      "id": "db740905-df40-431c-997c-3cd32aa22901",
      "metadata": {
        "id": "db740905-df40-431c-997c-3cd32aa22901"
      },
      "source": [
        "**4. Lambdas and Map :**"
      ]
    },
    {
      "cell_type": "markdown",
      "id": "0836f329-5fba-4db2-8dba-a5e56c3271ea",
      "metadata": {
        "id": "0836f329-5fba-4db2-8dba-a5e56c3271ea"
      },
      "source": [
        "**Q. Write a function that uses map and a lambda to return a list where each element is squared**"
      ]
    },
    {
      "cell_type": "code",
      "execution_count": 4,
      "id": "4165845e-0707-47b1-898e-64ba546e74cb",
      "metadata": {
        "colab": {
          "base_uri": "https://localhost:8080/"
        },
        "id": "4165845e-0707-47b1-898e-64ba546e74cb",
        "outputId": "2db3dbd6-47dd-4a78-f774-8f63f27f8055"
      },
      "outputs": [
        {
          "output_type": "stream",
          "name": "stdout",
          "text": [
            "[36, 25, 9, 16, 1936, 361, 49, 64, 81]\n"
          ]
        }
      ],
      "source": [
        "def square_elements(input_list):\n",
        "    return list(map(lambda x: x**2, input_list))\n",
        "\n",
        "n = [6,5,3,4,44,19,7,8,9]\n",
        "squared_numbers = square_elements(n)\n",
        "print(squared_numbers)"
      ]
    },
    {
      "cell_type": "markdown",
      "id": "75ee6470-d5e7-4e67-b77b-49b3641de665",
      "metadata": {
        "id": "75ee6470-d5e7-4e67-b77b-49b3641de665"
      },
      "source": [
        "**5. Filter and Lambdas :**"
      ]
    },
    {
      "cell_type": "markdown",
      "id": "455221f4-f4ef-4ac5-968d-7ec3c18f7cab",
      "metadata": {
        "id": "455221f4-f4ef-4ac5-968d-7ec3c18f7cab"
      },
      "source": [
        "**Q. Write a function that filters out all odd numbers from a list using filter and a lambda function**"
      ]
    },
    {
      "cell_type": "code",
      "execution_count": 5,
      "id": "90f85141-7ed5-414b-893c-d2d73d6e76a9",
      "metadata": {
        "colab": {
          "base_uri": "https://localhost:8080/"
        },
        "id": "90f85141-7ed5-414b-893c-d2d73d6e76a9",
        "outputId": "b53ac39b-4d8c-47fa-9b39-632489c61ee7"
      },
      "outputs": [
        {
          "output_type": "stream",
          "name": "stdout",
          "text": [
            "[22, 4, 6, 76, 8, 94, 14, 60]\n"
          ]
        }
      ],
      "source": [
        "def filter_odds(input_list):\n",
        "    return list(filter(lambda x: x % 2 == 0, input_list))\n",
        "\n",
        "n = [1,22,3,4,5,6,76,8,94,14,60]\n",
        "filtered_numbers = filter_odds(n)\n",
        "print(filtered_numbers)"
      ]
    },
    {
      "cell_type": "markdown",
      "id": "a91a276e-f319-4d24-9b97-4b0e7fd4ba47",
      "metadata": {
        "id": "a91a276e-f319-4d24-9b97-4b0e7fd4ba47"
      },
      "source": [
        "**6. Basic List Comprehension :**"
      ]
    },
    {
      "cell_type": "markdown",
      "id": "bd40245a-541e-4be8-b126-906d46b7532e",
      "metadata": {
        "id": "bd40245a-541e-4be8-b126-906d46b7532e"
      },
      "source": [
        "**Q. Create a list comprehension that takes a list of numbers and returns a list of their squares**"
      ]
    },
    {
      "cell_type": "code",
      "execution_count": 6,
      "id": "0dfaa96f-e6da-4203-8b4f-c8489445900a",
      "metadata": {
        "colab": {
          "base_uri": "https://localhost:8080/"
        },
        "id": "0dfaa96f-e6da-4203-8b4f-c8489445900a",
        "outputId": "f4843b00-a111-4886-b532-091f0df91d41"
      },
      "outputs": [
        {
          "output_type": "stream",
          "name": "stdout",
          "text": [
            "[36, 16, 25, 81, 64]\n"
          ]
        }
      ],
      "source": [
        "def square_elements(input_list):\n",
        "    return [x**2 for x in input_list]\n",
        "\n",
        "n = [6,4,5,9,8,]\n",
        "square_numbers = square_elements(n)\n",
        "print(square_numbers)"
      ]
    },
    {
      "cell_type": "markdown",
      "id": "80752440-e926-48fe-b374-a08ea82ef6ab",
      "metadata": {
        "id": "80752440-e926-48fe-b374-a08ea82ef6ab"
      },
      "source": [
        "**7. List Comprehension with Condition :**"
      ]
    },
    {
      "cell_type": "markdown",
      "id": "5beba4c6-73da-4e73-bc95-1b77ffc4226d",
      "metadata": {
        "id": "5beba4c6-73da-4e73-bc95-1b77ffc4226d"
      },
      "source": [
        "**Q. Use a list comprehension to create a list of even numbers from 1 to 20**"
      ]
    },
    {
      "cell_type": "code",
      "execution_count": 8,
      "id": "5fd9492e-3966-4d0c-973a-e34512b0c1c5",
      "metadata": {
        "colab": {
          "base_uri": "https://localhost:8080/"
        },
        "id": "5fd9492e-3966-4d0c-973a-e34512b0c1c5",
        "outputId": "9bbec4cf-d7c0-4b4c-ea1a-342196751f35"
      },
      "outputs": [
        {
          "output_type": "stream",
          "name": "stdout",
          "text": [
            "[2, 4, 6, 8, 10, 12, 14, 16, 18]\n"
          ]
        }
      ],
      "source": [
        "even_numbers = [x for x in range(1,20) if x%2 == 0]\n",
        "\n",
        "print(even_numbers)"
      ]
    },
    {
      "cell_type": "markdown",
      "id": "0ae4fbf8-2d62-48a2-917f-bc860526f7aa",
      "metadata": {
        "id": "0ae4fbf8-2d62-48a2-917f-bc860526f7aa"
      },
      "source": [
        "**8. Using os and time Modules :**"
      ]
    },
    {
      "cell_type": "markdown",
      "id": "970f2e8b-9f1b-4945-a2ef-45127f6bc823",
      "metadata": {
        "id": "970f2e8b-9f1b-4945-a2ef-45127f6bc823"
      },
      "source": [
        "**Q. Write a function file_operations that creates a directory named \"test_folder\" using os.makedirs(). Then, pause the execution for 3 seconds using time.sleep(), and finally, delete the directory using os.rmdir()**"
      ]
    },
    {
      "cell_type": "code",
      "execution_count": 9,
      "id": "37c38aa2-5815-4fee-8950-d651f1692328",
      "metadata": {
        "colab": {
          "base_uri": "https://localhost:8080/"
        },
        "id": "37c38aa2-5815-4fee-8950-d651f1692328",
        "outputId": "fdf63001-dbdf-4a7d-8a72-9982f6509bf3"
      },
      "outputs": [
        {
          "output_type": "stream",
          "name": "stdout",
          "text": [
            "Directory 'Python' created.\n",
            "break for 3 seconds.\n",
            "Directory 'Python' deleted.\n"
          ]
        }
      ],
      "source": [
        "import os\n",
        "import time\n",
        "\n",
        "def file_operations():\n",
        "\n",
        "    os.makedirs(\"Python\")\n",
        "    print(\"Directory 'Python' created.\")\n",
        "\n",
        "    time.sleep(3)\n",
        "    print(\"break for 3 seconds.\")\n",
        "\n",
        "    os.rmdir(\"Python\")\n",
        "    print(\"Directory 'Python' deleted.\")\n",
        "\n",
        "file_operations()"
      ]
    },
    {
      "cell_type": "markdown",
      "id": "f57f8fef-7af8-4858-8199-d7e38b4d6912",
      "metadata": {
        "id": "f57f8fef-7af8-4858-8199-d7e38b4d6912"
      },
      "source": [
        "**9. Importing Specific Functions :**"
      ]
    },
    {
      "cell_type": "markdown",
      "id": "dbad7463-53fe-49da-851b-13505246c799",
      "metadata": {
        "id": "dbad7463-53fe-49da-851b-13505246c799"
      },
      "source": [
        "**Q. Write a Python script that imports only sleep from the time module and renames it to pause. Use it to pause execution for 2 seconds and print \"Paused execution...\"**"
      ]
    },
    {
      "cell_type": "code",
      "execution_count": 10,
      "id": "9d863318-827d-48c1-b28e-a474ae27a8e0",
      "metadata": {
        "colab": {
          "base_uri": "https://localhost:8080/"
        },
        "id": "9d863318-827d-48c1-b28e-a474ae27a8e0",
        "outputId": "47b13987-d10a-41ed-9288-823b593e55d9"
      },
      "outputs": [
        {
          "output_type": "stream",
          "name": "stdout",
          "text": [
            "execution ruki hui h srf 2 sec k liy...\n"
          ]
        }
      ],
      "source": [
        "from time import sleep as pause\n",
        "\n",
        "pause(2)\n",
        "\n",
        "print(\"execution ruki hui h srf 2 sec k liy...\")"
      ]
    },
    {
      "cell_type": "markdown",
      "id": "fa27f88c-cc7c-4c8d-b524-5a83d4c9ab20",
      "metadata": {
        "id": "fa27f88c-cc7c-4c8d-b524-5a83d4c9ab20"
      },
      "source": [
        "**10. Recursive Function with args and kwargs (Flattening a List) :**"
      ]
    },
    {
      "cell_type": "markdown",
      "id": "948bdfdf-4dec-4d0d-b57f-f30a14e817e9",
      "metadata": {
        "id": "948bdfdf-4dec-4d0d-b57f-f30a14e817e9"
      },
      "source": [
        "**Q. Write a recursive function flatten_list that can flatten a nested list of any depth using args and kwargs**"
      ]
    },
    {
      "cell_type": "code",
      "execution_count": 11,
      "id": "7abb8159-1442-4e9e-84a9-cabf991510f9",
      "metadata": {
        "colab": {
          "base_uri": "https://localhost:8080/"
        },
        "id": "7abb8159-1442-4e9e-84a9-cabf991510f9",
        "outputId": "6d5377d9-5676-426f-dbfb-5af22448f84d"
      },
      "outputs": [
        {
          "output_type": "stream",
          "name": "stdout",
          "text": [
            "[1, 2, 3, 4, 5, 6, 7, 8]\n"
          ]
        }
      ],
      "source": [
        "def flatten_list(*args):\n",
        "    flatten = []\n",
        "    for item in args:\n",
        "        if isinstance(item, list):\n",
        "\n",
        "            # Recursively flatten the nested list\n",
        "            flatten.extend(flatten_list(*item))\n",
        "        else:\n",
        "            # Add the item to the flattened list\n",
        "            flatten.append(item)\n",
        "\n",
        "    return flatten\n",
        "\n",
        "nested_list = [1, [2, [3, 4]], 5, [6, [7, [8]]]]\n",
        "flat_list = flatten_list(*nested_list)\n",
        "print(flat_list)"
      ]
    },
    {
      "cell_type": "code",
      "execution_count": null,
      "id": "adf1caf5-3cf5-44c2-a124-13d1a836e3ec",
      "metadata": {
        "id": "adf1caf5-3cf5-44c2-a124-13d1a836e3ec"
      },
      "outputs": [],
      "source": []
    }
  ],
  "metadata": {
    "kernelspec": {
      "display_name": "Python 3 (ipykernel)",
      "language": "python",
      "name": "python3"
    },
    "language_info": {
      "codemirror_mode": {
        "name": "ipython",
        "version": 3
      },
      "file_extension": ".py",
      "mimetype": "text/x-python",
      "name": "python",
      "nbconvert_exporter": "python",
      "pygments_lexer": "ipython3",
      "version": "3.12.4"
    },
    "colab": {
      "provenance": [],
      "include_colab_link": true
    }
  },
  "nbformat": 4,
  "nbformat_minor": 5
}